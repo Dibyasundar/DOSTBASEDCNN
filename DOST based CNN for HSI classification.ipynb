{
 "cells": [
  {
   "cell_type": "code",
   "execution_count": 3,
   "metadata": {},
   "outputs": [],
   "source": [
    "import numpy as np\n",
    "from sklearn.decomposition import PCA\n",
    "import scipy.io as sio\n",
    "from sklearn.model_selection import train_test_split\n",
    "from sklearn import preprocessing\n",
    "import os\n",
    "import random\n",
    "from random import shuffle\n",
    "from skimage.transform import rotate\n",
    "import scipy.ndimage\n",
    "import scipy as sp\n",
    "from scipy import fftpack\n",
    "from keras.models import load_model\n",
    "from keras.utils import np_utils\n",
    "from sklearn.metrics import classification_report, confusion_matrix\n",
    "import itertools\n",
    "import spectral"
   ]
  },
  {
   "cell_type": "code",
   "execution_count": null,
   "metadata": {},
   "outputs": [],
   "source": []
  },
  {
   "cell_type": "code",
   "execution_count": 7,
   "metadata": {},
   "outputs": [],
   "source": [
    "def loadIndianPinesData():\n",
    "    data_path = os.path.join(os.getcwd(),'data')\n",
    "    data = sio.loadmat(\"../../Datasets/Indian pines/Indian_pines_corrected.mat\")['indian_pines_corrected']\n",
    "    labels = sio.loadmat(\"../../Datasets/Indian pines/Indian_pines_gt.mat\")['indian_pines_gt']\n",
    "    \n",
    "    return data, labels\n",
    "\n",
    "def splitTrainTestSet(X, y, testRatio=0.10):\n",
    "    X_train, X_test, y_train, y_test = train_test_split(X, y, test_size=testRatio, random_state=345,\n",
    "                                                        stratify=y)\n",
    "    return X_train, X_test, y_train, y_test\n",
    "\n",
    "\n",
    "def dost_bw(l):\n",
    "    out = np.zeros(int(2*np.log2(l)))\n",
    "    l1 = np.arange(np.log2(l)-2,-1,-1)\n",
    "    l2 = np.arange(0,np.log2(l)-1)\n",
    "    out[1:int(1+np.log2(l)-1)]=l1\n",
    "    out[-int(np.log2(l)-1):]=l2\n",
    "    \n",
    "    out = np.exp2(out).astype(np.int16)\n",
    "    return out\n",
    "\n",
    "def dost(inp):\n",
    "    l = inp.shape[0]\n",
    "    fft_inp = fftpack.fftshift(fftpack.fft(fftpack.ifftshift(inp,axes=0),axis=0),axes=0)\n",
    "    #plt.figure(figsize = (30,5))\n",
    "    #ax = np.linspace(-512,511,2**10)\n",
    "    #plt.plot(ax,fft_inp[0,:])\n",
    "    bw_inp = dost_bw(l)\n",
    "#     print(bw_inp)\n",
    "    k = 0\n",
    "    dost_inp = np.zeros_like(fft_inp)\n",
    "\n",
    "    for r in bw_inp:\n",
    "        if(r==1):\n",
    "            dost_inp[k,:] = fft_inp[k,:]\n",
    "            k = k+r\n",
    "        else:\n",
    "            dost_inp[k:r+k,:] = fftpack.fftshift(fftpack.ifft(fftpack.ifftshift(fft_inp[k:r+k,:],axes=0),axis=0),axes=0)\n",
    "            k = k+r\n",
    "\n",
    "#     plt.plot(fft_inp)\n",
    "    #plt.figure(figsize = (20,5))\n",
    "    #plt.plot(np.abs(dost_inp[0,:]))\n",
    "    \n",
    "    \n",
    "    return dost_inp\n",
    "    \n",
    "    \n",
    "def oversampleWeakClasses(X, y):\n",
    "    uniqueLabels, labelCounts = np.unique(y, return_counts=True)\n",
    "    maxCount = np.max(labelCounts)\n",
    "    labelInverseRatios = maxCount / labelCounts  \n",
    "    # repeat for every label and concat\n",
    "    newX = X[y == uniqueLabels[0], :, :, :].repeat(round(labelInverseRatios[0]), axis=0)\n",
    "    newY = y[y == uniqueLabels[0]].repeat(round(labelInverseRatios[0]), axis=0)\n",
    "    for label, labelInverseRatio in zip(uniqueLabels[1:], labelInverseRatios[1:]):\n",
    "        cX = X[y== label,:,:,:].repeat(round(labelInverseRatio), axis=0)\n",
    "        cY = y[y == label].repeat(round(labelInverseRatio), axis=0)\n",
    "        newX = np.concatenate((newX, cX))\n",
    "        newY = np.concatenate((newY, cY))\n",
    "    np.random.seed(seed=42)\n",
    "    rand_perm = np.random.permutation(newY.shape[0])\n",
    "    newX = newX[rand_perm, :, :, :]\n",
    "    newY = newY[rand_perm]\n",
    "    return newX, newY\n",
    "\n",
    "\n",
    "def standartizeData(X):\n",
    "    newX = np.reshape(X, (-1, X.shape[2]))\n",
    "    scaler = preprocessing.StandardScaler().fit(newX)  \n",
    "    newX = scaler.transform(newX)\n",
    "    newX = np.reshape(newX, (X.shape[0],X.shape[1],X.shape[2]))\n",
    "    return newX, scaler\n",
    "\n",
    "def applyPCA(X, numComponents=75):\n",
    "    newX = np.reshape(X, (-1, X.shape[2]))\n",
    "    pca = PCA(n_components=numComponents, whiten=True)\n",
    "    newX = pca.fit_transform(newX)\n",
    "    newX = np.reshape(newX, (X.shape[0],X.shape[1], numComponents))\n",
    "    return newX, pca\n",
    "\n",
    "def padWithZeros(X, margin=2):\n",
    "    newX = np.zeros((X.shape[0] + 2 * margin, X.shape[1] + 2* margin, X.shape[2]))\n",
    "    x_offset = margin\n",
    "    y_offset = margin\n",
    "    newX[x_offset:X.shape[0] + x_offset, y_offset:X.shape[1] + y_offset, :] = X\n",
    "    return newX\n",
    "\n",
    "def createPatches(X, y, windowSize=5, removeZeroLabels = True):\n",
    "    margin = int((windowSize - 1) / 2)\n",
    "    zeroPaddedX = padWithZeros(X, margin=margin)\n",
    "    # split patches\n",
    "    patchesData = np.zeros((X.shape[0] * X.shape[1], windowSize, windowSize, X.shape[2]))\n",
    "    patchesLabels = np.zeros((X.shape[0] * X.shape[1]))\n",
    "    patchIndex = 0\n",
    "    for r in range(margin, zeroPaddedX.shape[0] - margin):\n",
    "        for c in range(margin, zeroPaddedX.shape[1] - margin):\n",
    "            patch = zeroPaddedX[r - margin:r + margin + 1, c - margin:c + margin + 1]   \n",
    "            patchesData[patchIndex, :, :, :] = patch\n",
    "            patchesLabels[patchIndex] = y[r-margin, c-margin]\n",
    "            patchIndex = patchIndex + 1\n",
    "    if removeZeroLabels:\n",
    "        patchesData = patchesData[patchesLabels>0,:,:,:]\n",
    "        patchesLabels = patchesLabels[patchesLabels>0]\n",
    "        patchesLabels -= 1\n",
    "    return patchesData, patchesLabels\n",
    "\n",
    "\n",
    "def AugmentData(X_train):\n",
    "    for i in range(int(X_train.shape[0]/2)):\n",
    "        patch = X_train[i,:,:,:]\n",
    "        num = random.randint(0,2)\n",
    "        if (num == 0):\n",
    "            \n",
    "            flipped_patch = np.flipud(patch)\n",
    "        if (num == 1):\n",
    "            \n",
    "            flipped_patch = np.fliplr(patch)\n",
    "        if (num == 2):\n",
    "            \n",
    "            no = random.randrange(-180,180,30)\n",
    "            flipped_patch = scipy.ndimage.interpolation.rotate(patch, no,axes=(1, 0),\n",
    "                                                               reshape=False, output=None, order=3, mode='constant', cval=0.0, prefilter=False)\n",
    "    \n",
    "    \n",
    "    patch2 = flipped_patch\n",
    "    X_train[i,:,:,:] = patch2\n",
    "    \n",
    "    return X_train\n",
    "\n",
    "\n",
    "def savePreprocessedData(X_trainPatches, X_testPatches, y_trainPatches, y_testPatches, windowSize,dost_applied=False, wasPCAapplied = False, numPCAComponents = 0, testRatio = 0.25):\n",
    "    if dost_applied:\n",
    "        if wasPCAapplied:\n",
    "            with open(\"../data/XtrainWindowSize\" + str(windowSize) + \"PCA\" + str(numPCAComponents) + \"testRatio\" + str(testRatio) + \"_dost.npy\", 'wb+') as outfile:\n",
    "                np.save(outfile, X_trainPatches)\n",
    "            with open(\"../data/XtestWindowSize\" + str(windowSize) + \"PCA\" + str(numPCAComponents) + \"testRatio\" + str(testRatio) + \"_dost.npy\", 'wb+') as outfile:\n",
    "                np.save(outfile, X_testPatches)\n",
    "            with open(\"../data/ytrainWindowSize\" + str(windowSize) + \"PCA\" + str(numPCAComponents) + \"testRatio\" + str(testRatio) + \"_dost.npy\", 'wb+') as outfile:\n",
    "                np.save(outfile, y_trainPatches)\n",
    "            with open(\"../data/ytestWindowSize\" + str(windowSize) + \"PCA\" + str(numPCAComponents) + \"testRatio\" + str(testRatio) + \"_dost.npy\", 'wb+') as outfile:\n",
    "                np.save(outfile, y_testPatches)\n",
    "        else:\n",
    "            with open(\"../data/XtrainWindowSize\" + str(windowSize) + \"_dost.npy\", 'bw+') as outfile:\n",
    "                np.save(outfile, X_trainPatches)\n",
    "            with open(\"../data/XtestWindowSize\" + str(windowSize) + \"_dost.npy\", 'bw+') as outfile:\n",
    "                np.save(outfile, X_testPatches)\n",
    "            with open(\"../data/ytrainWindowSize\" + str(windowSize) + \"_dost.npy\", 'bw+') as outfile:\n",
    "                np.save(outfile, y_trainPatches)\n",
    "            with open(\"../data/ytestWindowSize\" + str(windowSize) + \"_dost.npy\", 'bw+') as outfile:\n",
    "                np.save(outfile, y_testPatches)\n",
    "    else:\n",
    "        if wasPCAapplied:\n",
    "            with open(\"../data/XtrainWindowSize\" + str(windowSize) + \"PCA\" + str(numPCAComponents) + \"testRatio\" + str(testRatio) + \".npy\", 'wb+') as outfile:\n",
    "                np.save(outfile, X_trainPatches)\n",
    "            with open(\"../data/XtestWindowSize\" + str(windowSize) + \"PCA\" + str(numPCAComponents) + \"testRatio\" + str(testRatio) + \".npy\", 'wb+') as outfile:\n",
    "                np.save(outfile, X_testPatches)\n",
    "            with open(\"../data/ytrainWindowSize\" + str(windowSize) + \"PCA\" + str(numPCAComponents) + \"testRatio\" + str(testRatio) + \".npy\", 'wb+') as outfile:\n",
    "                np.save(outfile, y_trainPatches)\n",
    "            with open(\"../data/ytestWindowSize\" + str(windowSize) + \"PCA\" + str(numPCAComponents) + \"testRatio\" + str(testRatio) + \".npy\", 'wb+') as outfile:\n",
    "                np.save(outfile, y_testPatches)\n",
    "        else:\n",
    "            with open(\"../data/XtrainWindowSize\" + str(windowSize) + \".npy\", 'bw+') as outfile:\n",
    "                np.save(outfile, X_trainPatches)\n",
    "            with open(\"../data/XtestWindowSize\" + str(windowSize) + \".npy\", 'bw+') as outfile:\n",
    "                np.save(outfile, X_testPatches)\n",
    "            with open(\"../data/ytrainWindowSize\" + str(windowSize) + \".npy\", 'bw+') as outfile:\n",
    "                np.save(outfile, y_trainPatches)\n",
    "            with open(\"../data/ytestWindowSize\" + str(windowSize) + \".npy\", 'bw+') as outfile:\n",
    "                np.save(outfile, y_testPatches)\n",
    "                \n",
    "\n",
    "\n"
   ]
  },
  {
   "cell_type": "code",
   "execution_count": 69,
   "metadata": {},
   "outputs": [],
   "source": [
    "# Global Variables\n",
    "numComponents = 64\n",
    "windowSize = 7\n",
    "testRatio = 0.95\n",
    "dost_ = False"
   ]
  },
  {
   "cell_type": "code",
   "execution_count": 70,
   "metadata": {},
   "outputs": [
    {
     "name": "stdout",
     "output_type": "stream",
     "text": [
      "Shape of X : (145, 145, 200)\n"
     ]
    }
   ],
   "source": [
    "X, y = loadIndianPinesData()\n",
    "print(\"Shape of X : \",end='')\n",
    "print(X.shape)"
   ]
  },
  {
   "cell_type": "code",
   "execution_count": 71,
   "metadata": {},
   "outputs": [],
   "source": [
    "if dost_:\n",
    "    X_dost = np.zeros([X.shape[0],X.shape[1],256])\n",
    "    X_dost[:,:,:200] = X\n",
    "\n",
    "    X_ = np.abs(dost(X_dost.reshape([-1,X_dost.shape[2]],order='F').T).T.reshape(X_dost.shape,order='F'))\n",
    "else:\n",
    "    X_ = X"
   ]
  },
  {
   "cell_type": "code",
   "execution_count": 75,
   "metadata": {},
   "outputs": [
    {
     "data": {
      "text/plain": [
       "(145, 145, 200)"
      ]
     },
     "execution_count": 75,
     "metadata": {},
     "output_type": "execute_result"
    }
   ],
   "source": [
    "X_.shape"
   ]
  },
  {
   "cell_type": "code",
   "execution_count": 72,
   "metadata": {},
   "outputs": [],
   "source": [
    "X_pca,pca = applyPCA(X_,numComponents=numComponents)"
   ]
  },
  {
   "cell_type": "code",
   "execution_count": 73,
   "metadata": {},
   "outputs": [],
   "source": [
    "XPatches, yPatches = createPatches(X_pca, y, windowSize=windowSize)\n",
    "X_train, X_test, y_train, y_test = splitTrainTestSet(XPatches, yPatches, testRatio)\n",
    "X_train, y_train = oversampleWeakClasses(X_train, y_train)\n",
    "X_train = AugmentData(X_train)"
   ]
  },
  {
   "cell_type": "code",
   "execution_count": 74,
   "metadata": {},
   "outputs": [
    {
     "name": "stdout",
     "output_type": "stream",
     "text": [
      "X_train : (1981, 7, 7, 64)\n",
      "y_train : (1981,)\n",
      "X_test : (9737, 7, 7, 64)\n",
      "y_test : (9737,)\n"
     ]
    }
   ],
   "source": [
    "print(\"X_train : {}\".format(X_train.shape))\n",
    "print(\"y_train : {}\".format(y_train.shape))\n",
    "print(\"X_test : {}\".format(X_test.shape))\n",
    "print(\"y_test : {}\".format(y_test.shape))"
   ]
  },
  {
   "cell_type": "code",
   "execution_count": null,
   "metadata": {},
   "outputs": [],
   "source": []
  },
  {
   "cell_type": "code",
   "execution_count": null,
   "metadata": {},
   "outputs": [],
   "source": []
  },
  {
   "cell_type": "code",
   "execution_count": 13,
   "metadata": {},
   "outputs": [],
   "source": [
    "import numpy as np\n",
    "import scipy\n",
    "import os\n",
    "from keras.models import Sequential\n",
    "from keras.layers import Dense, Dropout, Flatten\n",
    "from keras.layers import Conv2D, MaxPooling2D,Conv3D,MaxPooling3D\n",
    "from keras.optimizers import SGD\n",
    "from keras import backend as K\n",
    "K.set_image_dim_ordering('th')\n",
    "from keras.utils import np_utils\n",
    "import keras\n",
    "#from sklearn.cross_validation import StratifiedKFold"
   ]
  },
  {
   "cell_type": "code",
   "execution_count": 1,
   "metadata": {},
   "outputs": [],
   "source": [
    "def load_train_data(windowSize,testRatio,PCA_applied,DOST_applied,numPCAcomponents):\n",
    "    pass"
   ]
  },
  {
   "cell_type": "code",
   "execution_count": null,
   "metadata": {},
   "outputs": [],
   "source": []
  },
  {
   "cell_type": "code",
   "execution_count": 76,
   "metadata": {},
   "outputs": [],
   "source": [
    "y_train = np_utils.to_categorical(y_train)"
   ]
  },
  {
   "cell_type": "code",
   "execution_count": 77,
   "metadata": {},
   "outputs": [
    {
     "name": "stdout",
     "output_type": "stream",
     "text": [
      "Input Shape : (7, 7, 64)\n"
     ]
    }
   ],
   "source": [
    "input_shape = X_train[0].shape\n",
    "print(\"Input Shape : {}\".format(X_train[...][0].shape))"
   ]
  },
  {
   "cell_type": "code",
   "execution_count": 78,
   "metadata": {},
   "outputs": [],
   "source": [
    "C1 = 64"
   ]
  },
  {
   "cell_type": "code",
   "execution_count": 79,
   "metadata": {},
   "outputs": [
    {
     "name": "stdout",
     "output_type": "stream",
     "text": [
      "_________________________________________________________________\n",
      "Layer (type)                 Output Shape              Param #   \n",
      "=================================================================\n",
      "conv2d_5 (Conv2D)            (None, 5, 5, 128)         73856     \n",
      "_________________________________________________________________\n",
      "dropout_7 (Dropout)          (None, 5, 5, 128)         0         \n",
      "_________________________________________________________________\n",
      "conv2d_6 (Conv2D)            (None, 3, 3, 64)          73792     \n",
      "_________________________________________________________________\n",
      "dropout_8 (Dropout)          (None, 3, 3, 64)          0         \n",
      "_________________________________________________________________\n",
      "flatten_3 (Flatten)          (None, 576)               0         \n",
      "_________________________________________________________________\n",
      "dense_5 (Dense)              (None, 256)               147712    \n",
      "_________________________________________________________________\n",
      "dropout_9 (Dropout)          (None, 256)               0         \n",
      "_________________________________________________________________\n",
      "dense_6 (Dense)              (None, 16)                4112      \n",
      "=================================================================\n",
      "Total params: 299,472\n",
      "Trainable params: 299,472\n",
      "Non-trainable params: 0\n",
      "_________________________________________________________________\n",
      "None\n"
     ]
    }
   ],
   "source": [
    "# Define the model\n",
    "model = Sequential()\n",
    "\n",
    "model.add(Conv2D(2*C1, (3, 3),data_format=\"channels_last\", activation='relu', input_shape=input_shape))\n",
    "model.add(Dropout(0.4))\n",
    "# model.add(MaxPooling3D(pool_size=()))\n",
    "model.add(Conv2D(C1, (3, 3), data_format=\"channels_last\",activation='relu'))\n",
    "model.add(Dropout(0.4))\n",
    "# model.add(MaxPooling3D((2,2,2)))\n",
    "# model.add(Conv3D(C1, (2,3, 3), activation='relu'))\n",
    "# model.add(Dropout(0.25))\n",
    "\n",
    "\n",
    "\n",
    "\n",
    "\n",
    "model.add(Flatten())\n",
    "model.add(Dense(256, activation='relu'))\n",
    "model.add(Dropout(0.5))\n",
    "model.add(Dense(16, activation='softmax'))\n",
    "\n",
    "print(model.summary())"
   ]
  },
  {
   "cell_type": "code",
   "execution_count": 80,
   "metadata": {},
   "outputs": [],
   "source": [
    "sgd = SGD(lr=0.0001, decay=1e-6, momentum=0.9, nesterov=True)\n",
    "model.compile(loss='categorical_crossentropy', optimizer=sgd, metrics=['accuracy'])"
   ]
  },
  {
   "cell_type": "code",
   "execution_count": 81,
   "metadata": {},
   "outputs": [
    {
     "name": "stdout",
     "output_type": "stream",
     "text": [
      "Train on 1782 samples, validate on 199 samples\n",
      "Epoch 1/50\n",
      "1782/1782 [==============================] - 2s 936us/step - loss: 3.1326 - acc: 0.0870 - val_loss: 2.4351 - val_acc: 0.3015\n",
      "Epoch 2/50\n",
      "1782/1782 [==============================] - 1s 760us/step - loss: 2.7287 - acc: 0.1689 - val_loss: 2.2191 - val_acc: 0.3719\n",
      "Epoch 3/50\n",
      "1782/1782 [==============================] - 1s 738us/step - loss: 2.5119 - acc: 0.2329 - val_loss: 2.0716 - val_acc: 0.4322\n",
      "Epoch 4/50\n",
      "1782/1782 [==============================] - 1s 727us/step - loss: 2.3654 - acc: 0.2705 - val_loss: 1.9518 - val_acc: 0.4724\n",
      "Epoch 5/50\n",
      "1782/1782 [==============================] - 1s 738us/step - loss: 2.2559 - acc: 0.3025 - val_loss: 1.8583 - val_acc: 0.5276\n",
      "Epoch 6/50\n",
      "1782/1782 [==============================] - 1s 723us/step - loss: 2.1469 - acc: 0.3339 - val_loss: 1.7705 - val_acc: 0.5829\n",
      "Epoch 7/50\n",
      "1782/1782 [==============================] - 1s 716us/step - loss: 2.0548 - acc: 0.3597 - val_loss: 1.6788 - val_acc: 0.6080\n",
      "Epoch 8/50\n",
      "1782/1782 [==============================] - 1s 745us/step - loss: 1.9685 - acc: 0.3810 - val_loss: 1.5950 - val_acc: 0.6482\n",
      "Epoch 9/50\n",
      "1782/1782 [==============================] - 1s 725us/step - loss: 1.8718 - acc: 0.4214 - val_loss: 1.5110 - val_acc: 0.6533\n",
      "Epoch 10/50\n",
      "1782/1782 [==============================] - 1s 738us/step - loss: 1.8346 - acc: 0.4259 - val_loss: 1.4370 - val_acc: 0.6784\n",
      "Epoch 11/50\n",
      "1782/1782 [==============================] - 1s 735us/step - loss: 1.7515 - acc: 0.4562 - val_loss: 1.3644 - val_acc: 0.7085\n",
      "Epoch 12/50\n",
      "1782/1782 [==============================] - 1s 723us/step - loss: 1.6648 - acc: 0.4697 - val_loss: 1.2961 - val_acc: 0.7136\n",
      "Epoch 13/50\n",
      "1782/1782 [==============================] - 1s 819us/step - loss: 1.5868 - acc: 0.4966 - val_loss: 1.2227 - val_acc: 0.7387\n",
      "Epoch 14/50\n",
      "1782/1782 [==============================] - 1s 734us/step - loss: 1.5286 - acc: 0.5174 - val_loss: 1.1586 - val_acc: 0.7638\n",
      "Epoch 15/50\n",
      "1782/1782 [==============================] - 1s 828us/step - loss: 1.4623 - acc: 0.5370 - val_loss: 1.0911 - val_acc: 0.7990\n",
      "Epoch 16/50\n",
      "1782/1782 [==============================] - 1s 818us/step - loss: 1.4084 - acc: 0.5499 - val_loss: 1.0231 - val_acc: 0.8191\n",
      "Epoch 17/50\n",
      "1782/1782 [==============================] - 1s 763us/step - loss: 1.3019 - acc: 0.5853 - val_loss: 0.9506 - val_acc: 0.8291\n",
      "Epoch 18/50\n",
      "1782/1782 [==============================] - 1s 759us/step - loss: 1.2481 - acc: 0.5993 - val_loss: 0.8841 - val_acc: 0.8442\n",
      "Epoch 19/50\n",
      "1782/1782 [==============================] - 1s 745us/step - loss: 1.1984 - acc: 0.6117 - val_loss: 0.8172 - val_acc: 0.8442\n",
      "Epoch 20/50\n",
      "1782/1782 [==============================] - 1s 790us/step - loss: 1.1479 - acc: 0.6291 - val_loss: 0.7550 - val_acc: 0.8643\n",
      "Epoch 21/50\n",
      "1782/1782 [==============================] - 1s 745us/step - loss: 1.0718 - acc: 0.6611 - val_loss: 0.6960 - val_acc: 0.8693\n",
      "Epoch 22/50\n",
      "1782/1782 [==============================] - 2s 860us/step - loss: 1.0141 - acc: 0.6745 - val_loss: 0.6444 - val_acc: 0.8844\n",
      "Epoch 23/50\n",
      "1782/1782 [==============================] - 1s 736us/step - loss: 0.9550 - acc: 0.6880 - val_loss: 0.5965 - val_acc: 0.8894\n",
      "Epoch 24/50\n",
      "1782/1782 [==============================] - 1s 750us/step - loss: 0.9353 - acc: 0.7043 - val_loss: 0.5571 - val_acc: 0.8894\n",
      "Epoch 25/50\n",
      "1782/1782 [==============================] - 1s 781us/step - loss: 0.8779 - acc: 0.7256 - val_loss: 0.5217 - val_acc: 0.8945\n",
      "Epoch 26/50\n",
      "1782/1782 [==============================] - 1s 777us/step - loss: 0.8035 - acc: 0.7290 - val_loss: 0.4903 - val_acc: 0.8945\n",
      "Epoch 27/50\n",
      "1782/1782 [==============================] - 1s 759us/step - loss: 0.8077 - acc: 0.7278 - val_loss: 0.4603 - val_acc: 0.8995\n",
      "Epoch 28/50\n",
      "1782/1782 [==============================] - 1s 793us/step - loss: 0.7600 - acc: 0.7553 - val_loss: 0.4365 - val_acc: 0.8995\n",
      "Epoch 29/50\n",
      "1782/1782 [==============================] - 1s 743us/step - loss: 0.7304 - acc: 0.7514 - val_loss: 0.4153 - val_acc: 0.8945\n",
      "Epoch 30/50\n",
      "1782/1782 [==============================] - 1s 756us/step - loss: 0.6785 - acc: 0.7722 - val_loss: 0.3915 - val_acc: 0.8945\n",
      "Epoch 31/50\n",
      "1782/1782 [==============================] - 1s 768us/step - loss: 0.6884 - acc: 0.7671 - val_loss: 0.3735 - val_acc: 0.8945\n",
      "Epoch 32/50\n",
      "1782/1782 [==============================] - 1s 754us/step - loss: 0.6153 - acc: 0.7980 - val_loss: 0.3546 - val_acc: 0.8945\n",
      "Epoch 33/50\n",
      "1782/1782 [==============================] - 1s 725us/step - loss: 0.6052 - acc: 0.7929 - val_loss: 0.3372 - val_acc: 0.8945\n",
      "Epoch 34/50\n",
      "1782/1782 [==============================] - 1s 747us/step - loss: 0.5925 - acc: 0.8086 - val_loss: 0.3223 - val_acc: 0.8945\n",
      "Epoch 35/50\n",
      "1782/1782 [==============================] - 1s 754us/step - loss: 0.5530 - acc: 0.8103 - val_loss: 0.3093 - val_acc: 0.9095\n",
      "Epoch 36/50\n",
      "1782/1782 [==============================] - 1s 747us/step - loss: 0.5339 - acc: 0.8187 - val_loss: 0.2968 - val_acc: 0.8945\n",
      "Epoch 37/50\n",
      "1782/1782 [==============================] - 1s 732us/step - loss: 0.5342 - acc: 0.8131 - val_loss: 0.2876 - val_acc: 0.8945\n",
      "Epoch 38/50\n",
      "1782/1782 [==============================] - 1s 756us/step - loss: 0.5264 - acc: 0.8210 - val_loss: 0.2775 - val_acc: 0.9095\n",
      "Epoch 39/50\n",
      "1782/1782 [==============================] - 2s 979us/step - loss: 0.4816 - acc: 0.8311 - val_loss: 0.2674 - val_acc: 0.9095\n",
      "Epoch 40/50\n",
      "1782/1782 [==============================] - 2s 880us/step - loss: 0.4828 - acc: 0.8406 - val_loss: 0.2565 - val_acc: 0.9246\n",
      "Epoch 41/50\n",
      "1782/1782 [==============================] - 2s 873us/step - loss: 0.4820 - acc: 0.8356 - val_loss: 0.2463 - val_acc: 0.9296\n",
      "Epoch 42/50\n",
      "1782/1782 [==============================] - 2s 875us/step - loss: 0.4357 - acc: 0.8440 - val_loss: 0.2393 - val_acc: 0.9347\n",
      "Epoch 43/50\n",
      "1782/1782 [==============================] - 2s 916us/step - loss: 0.4348 - acc: 0.8519 - val_loss: 0.2311 - val_acc: 0.9296\n",
      "Epoch 44/50\n",
      "1782/1782 [==============================] - 2s 888us/step - loss: 0.4107 - acc: 0.8586 - val_loss: 0.2265 - val_acc: 0.9196\n",
      "Epoch 45/50\n",
      "1782/1782 [==============================] - 2s 869us/step - loss: 0.3904 - acc: 0.8715 - val_loss: 0.2190 - val_acc: 0.9347\n",
      "Epoch 46/50\n",
      "1782/1782 [==============================] - 2s 880us/step - loss: 0.3825 - acc: 0.8765 - val_loss: 0.2113 - val_acc: 0.9397\n",
      "Epoch 47/50\n",
      "1782/1782 [==============================] - 2s 865us/step - loss: 0.3764 - acc: 0.8721 - val_loss: 0.2052 - val_acc: 0.9397\n",
      "Epoch 48/50\n",
      "1782/1782 [==============================] - 2s 882us/step - loss: 0.3723 - acc: 0.8793 - val_loss: 0.1992 - val_acc: 0.9347\n",
      "Epoch 49/50\n",
      "1782/1782 [==============================] - 2s 863us/step - loss: 0.3504 - acc: 0.8855 - val_loss: 0.1938 - val_acc: 0.9447\n",
      "Epoch 50/50\n",
      "1782/1782 [==============================] - 2s 870us/step - loss: 0.3518 - acc: 0.8810 - val_loss: 0.1875 - val_acc: 0.9497\n"
     ]
    }
   ],
   "source": [
    "filepath = \"../models/conv_v2.h5\"\n",
    "history = model.fit(X_train,\n",
    "    y_train,\n",
    "    batch_size=16,\n",
    "    epochs=50,\n",
    "    #show_accuracy=False,\n",
    "#     verbose=2,\n",
    "    validation_split = 0.1,\n",
    "    callbacks = [\n",
    "        keras.callbacks.ModelCheckpoint(filepath, monitor='val_loss', verbose=0, save_best_only=True, mode='auto'),\n",
    "#         keras.callbacks.EarlyStopping(monitor='val_acc', patience=10, verbose=0, mode='auto'),\n",
    "#         keras.callbacks.EarlyStopping(monitor='val_loss', patience=10, verbose=0, mode='auto')\n",
    "    ]\n",
    "    )"
   ]
  },
  {
   "cell_type": "code",
   "execution_count": 68,
   "metadata": {},
   "outputs": [],
   "source": [
    "model.save(filepath=filepath)"
   ]
  },
  {
   "cell_type": "code",
   "execution_count": 26,
   "metadata": {},
   "outputs": [],
   "source": [
    "def reports (X_test,y_test,model):\n",
    "    Y_pred = model.predict(X_test,batch_size=8)\n",
    "    y_pred = np.argmax(Y_pred, axis=1)\n",
    "    target_names = ['Alfalfa', 'Corn-notill', 'Corn-mintill', 'Corn'\n",
    "               ,'Grass-pasture', 'Grass-trees', 'Grass-pasture-mowed', \n",
    "                'Hay-windrowed', 'Oats', 'Soybean-notill', 'Soybean-mintill',\n",
    "               'Soybean-clean', 'Wheat', 'Woods', 'Buildings-Grass-Trees-Drives',\n",
    "               'Stone-Steel-Towers']\n",
    "\n",
    "    \n",
    "    classification = classification_report(np.argmax(y_test, axis=1), y_pred, target_names=target_names)\n",
    "    confusion = confusion_matrix(np.argmax(y_test, axis=1), y_pred)\n",
    "    score = model.evaluate(X_test, y_test, batch_size=8)\n",
    "    Test_Loss =  score[0]*100\n",
    "    Test_accuracy = score[1]*100\n",
    "    \n",
    "    return classification, confusion, Test_Loss, Test_accuracy\n",
    "\n"
   ]
  },
  {
   "cell_type": "code",
   "execution_count": 82,
   "metadata": {},
   "outputs": [],
   "source": [
    "y_test_ = np_utils.to_categorical(y_test)"
   ]
  },
  {
   "cell_type": "code",
   "execution_count": 83,
   "metadata": {},
   "outputs": [
    {
     "name": "stdout",
     "output_type": "stream",
     "text": [
      "9737/9737 [==============================] - 3s 268us/step\n"
     ]
    }
   ],
   "source": [
    "classification, confusion, Test_loss, Test_accuracy = reports(X_test,y_test_,model)\n",
    "classification = str(classification)\n",
    "confusion = str(confusion)\n",
    "numComponents = 64\n",
    "file_name = 'report' + \"WindowSize\" + str(windowSize) + \"PCA\" + str(numComponents) + \"testRatio\" + str(testRatio) +\".txt\"\n",
    "with open(file_name, 'w+') as x_file:\n",
    "    x_file.write('{} Test loss (%)'.format(Test_loss))\n",
    "    x_file.write('\\n')\n",
    "    x_file.write('{} Test accuracy (%)'.format(Test_accuracy))\n",
    "    x_file.write('\\n')\n",
    "    x_file.write('\\n')\n",
    "    x_file.write('{}'.format(classification))\n",
    "    x_file.write('\\n')\n",
    "    x_file.write('{}'.format(confusion))"
   ]
  },
  {
   "cell_type": "code",
   "execution_count": 84,
   "metadata": {},
   "outputs": [
    {
     "name": "stdout",
     "output_type": "stream",
     "text": [
      "64.97189714751707 Test loss (%)\n",
      "79.40844202526446 Test accuracy (%)\n",
      "\n",
      "                              precision    recall  f1-score   support\n",
      "\n",
      "                     Alfalfa       1.00      0.09      0.17        44\n",
      "                 Corn-notill       0.74      0.77      0.75      1357\n",
      "                Corn-mintill       0.72      0.65      0.68       789\n",
      "                        Corn       0.84      0.48      0.61       225\n",
      "               Grass-pasture       0.95      0.94      0.95       459\n",
      "                 Grass-trees       0.93      1.00      0.96       693\n",
      "         Grass-pasture-mowed       1.00      0.07      0.14        27\n",
      "               Hay-windrowed       0.88      1.00      0.94       454\n",
      "                        Oats       1.00      0.16      0.27        19\n",
      "              Soybean-notill       0.59      0.84      0.70       923\n",
      "             Soybean-mintill       0.83      0.66      0.74      2332\n",
      "               Soybean-clean       0.64      0.83      0.72       563\n",
      "                       Wheat       1.00      1.00      1.00       195\n",
      "                       Woods       0.92      0.96      0.94      1202\n",
      "Buildings-Grass-Trees-Drives       0.81      0.69      0.74       367\n",
      "          Stone-Steel-Towers       0.98      0.98      0.98        88\n",
      "\n",
      "                 avg / total       0.81      0.79      0.79      9737\n",
      "\n",
      "[[   4    0    0    0    3    0    0   37    0    0    0    0    0    0\n",
      "     0    0]\n",
      " [   0 1047   12    8    1    0    0    0    0  156  111   16    0    5\n",
      "     0    1]\n",
      " [   0   32  510   11    0    0    0    0    0   22  103  111    0    0\n",
      "     0    0]\n",
      " [   0   69   36  108    0    0    0    1    0    0    4    3    0    2\n",
      "     2    0]\n",
      " [   0    0    4    0  433   11    0    0    0    1    2    2    0    0\n",
      "     6    0]\n",
      " [   0    0    0    0    0  691    0    0    0    0    0    0    0    0\n",
      "     2    0]\n",
      " [   0    0    0    0    1    0    2   22    0    0    0    0    0    0\n",
      "     2    0]\n",
      " [   0    0    0    0    0    0    0  454    0    0    0    0    0    0\n",
      "     0    0]\n",
      " [   0    0    1    0   11    2    0    0    3    0    0    1    0    0\n",
      "     1    0]\n",
      " [   0   19   11    0    3    1    0    0    0  776   89   22    0    2\n",
      "     0    0]\n",
      " [   0  219  110    0    0    6    0    0    0  336 1548  108    0    2\n",
      "     3    0]\n",
      " [   0   31   26    1    3    0    0    0    0   15   19  467    0    0\n",
      "     0    1]\n",
      " [   0    0    0    0    0    0    0    0    0    0    0    0  195    0\n",
      "     0    0]\n",
      " [   0    0    0    0    0    1    0    0    0    0    0    0    0 1156\n",
      "    45    0]\n",
      " [   0    0    0    0    0   30    0    0    0    0    0    1    0   84\n",
      "   252    0]\n",
      " [   0    0    0    0    0    0    0    0    0    0    0    2    0    0\n",
      "     0   86]]\n"
     ]
    }
   ],
   "source": [
    "!cat reportWindowSize7PCA64testRatio0.95.txt"
   ]
  },
  {
   "cell_type": "code",
   "execution_count": 85,
   "metadata": {},
   "outputs": [],
   "source": [
    "XPatches, yPatches = createPatches(X_pca, y, windowSize=windowSize,removeZeroLabels=False)"
   ]
  },
  {
   "cell_type": "code",
   "execution_count": 86,
   "metadata": {},
   "outputs": [
    {
     "data": {
      "text/plain": [
       "(21025, 7, 7, 64)"
      ]
     },
     "execution_count": 86,
     "metadata": {},
     "output_type": "execute_result"
    }
   ],
   "source": [
    "XPatches.shape"
   ]
  },
  {
   "cell_type": "code",
   "execution_count": 87,
   "metadata": {},
   "outputs": [],
   "source": [
    "predictions = model.predict_classes(XPatches,batch_size=16)+1"
   ]
  },
  {
   "cell_type": "code",
   "execution_count": 88,
   "metadata": {},
   "outputs": [],
   "source": [
    "pred_proba = model.predict_proba(XPatches,batch_size=16).reshape((145,145,16))"
   ]
  },
  {
   "cell_type": "code",
   "execution_count": 89,
   "metadata": {},
   "outputs": [],
   "source": [
    "predictions[yPatches==0] = 0"
   ]
  },
  {
   "cell_type": "code",
   "execution_count": 90,
   "metadata": {},
   "outputs": [
    {
     "data": {
      "text/plain": [
       "8207"
      ]
     },
     "execution_count": 90,
     "metadata": {},
     "output_type": "execute_result"
    }
   ],
   "source": [
    "np.sum(predictions[yPatches!=0] == yPatches[yPatches!=0])"
   ]
  },
  {
   "cell_type": "code",
   "execution_count": 91,
   "metadata": {},
   "outputs": [
    {
     "data": {
      "text/plain": [
       "(21025,)"
      ]
     },
     "execution_count": 91,
     "metadata": {},
     "output_type": "execute_result"
    }
   ],
   "source": [
    "predictions.shape"
   ]
  },
  {
   "cell_type": "code",
   "execution_count": 41,
   "metadata": {},
   "outputs": [
    {
     "data": {
      "text/plain": [
       "21025"
      ]
     },
     "execution_count": 41,
     "metadata": {},
     "output_type": "execute_result"
    }
   ],
   "source": [
    "145*145"
   ]
  },
  {
   "cell_type": "code",
   "execution_count": 42,
   "metadata": {},
   "outputs": [],
   "source": [
    "pred_map = predictions.reshape((145,145))"
   ]
  },
  {
   "cell_type": "code",
   "execution_count": 44,
   "metadata": {},
   "outputs": [
    {
     "data": {
      "text/plain": [
       "ImageView object:\n",
       "  Interpolation       :  <default>"
      ]
     },
     "execution_count": 44,
     "metadata": {},
     "output_type": "execute_result"
    },
    {
     "data": {
      "image/png": "[encoded data removed]",
      "text/plain": [
       "<Figure size 360x360 with 1 Axes>"
      ]
     },
     "metadata": {},
     "output_type": "display_data"
    }
   ],
   "source": [
    "spectral.imshow(classes = pred_map,figsize =(5,5))"
   ]
  },
  {
   "cell_type": "code",
   "execution_count": 54,
   "metadata": {},
   "outputs": [],
   "source": [
    "def wls_filter(img,lambda_,alpha,L):\n",
    "    \n",
    "    epsilon = 1e-4\n",
    "    (r,c)=img.shape\n",
    "    k = r*c\n",
    "    \n",
    "    dy = np.diff(L,1,0)\n",
    "    dy = -lambda_/(np.power(np.abs(dy),alpha)+epsilon)\n",
    "    dy = np.lib.pad(dy,[(0,1),(0,0)],'constant',constant_values=0)\n",
    "    dy = dy.flatten('F')\n",
    "    \n",
    "    dx = np.diff(L,1,1)\n",
    "    dx = -lambda_/(np.power(np.abs(dx),alpha)+epsilon)\n",
    "    dx = np.lib.pad(dx,[(0,0),(0,1)],'constant',constant_values=0)\n",
    "    dx = dx.flatten('F')\n",
    "    \n",
    "    B = np.array([dx,dy])\n",
    "    A = sp.sparse.diags(B,[-r,-1],(k,k))\n",
    "    \n",
    "    e = dx\n",
    "    w = np.pad(dx,[(r,0)],'constant',constant_values=0)[:-r]\n",
    "    s = dy\n",
    "    n = np.pad(dy,[(1,0)],'constant',constant_values=0)[:-1]\n",
    "    \n",
    "    D = 1-(e+w+s+n)\n",
    "    \n",
    "    A = A + A.T + sp.sparse.diags(D.reshape(1,-1),[0],(k,k))\n",
    "    \n",
    "    result = sp.sparse.linalg.spsolve(A,img.reshape((-1,1),order = 'F'))\n",
    "    result = result.reshape((r,c),order='F')\n",
    "    \n",
    "    return result\n",
    "\n",
    "\n",
    "#%%\n",
    "def bt_wls(Y,prediction,errMat,lamda_,alpha):\n",
    "    \n",
    "    (m,n)=prediction.shape\n",
    "    bands = Y.shape[2]\n",
    "#     Y = Y.reshape((m,n,bands),order = 'F')\n",
    "    \n",
    "    numClasses = errMat.shape[2]\n",
    "#     errCube = errMat.reshape((m,n,numClasses),order = 'F')\n",
    "    errCube = errMat[...]\n",
    "    errCube = (errCube-np.min(errCube))/(np.max(errCube)-np.min(errCube))\n",
    "    \n",
    "    guidanceImage = applyPCA(Y,1)[0].reshape((m,n)) \n",
    "    \n",
    "    #guidanceImage = np.mean(np.log(Y.astype(np.double)+0.0001),2)\n",
    "    for i in range(numClasses):\n",
    "        slc = errCube[:,:,i]\n",
    "        slc[np.logical_not(prediction==i+1)]=0\n",
    "        slc = wls_filter(slc,lamda_,alpha,guidanceImage)\n",
    "        errCube[:,:,i]=slc\n",
    "       \n",
    "    new_prediction = np.argmax(errCube,2)+1\n",
    "    new_prediction[prediction==0] = 0\n",
    "    return new_prediction   "
   ]
  },
  {
   "cell_type": "code",
   "execution_count": 92,
   "metadata": {},
   "outputs": [],
   "source": [
    "pred_dost = bt_wls(X,pred_map,pred_proba,0.3,0.8)"
   ]
  },
  {
   "cell_type": "code",
   "execution_count": 93,
   "metadata": {},
   "outputs": [
    {
     "data": {
      "text/plain": [
       "ImageView object:\n",
       "  Interpolation       :  <default>"
      ]
     },
     "execution_count": 93,
     "metadata": {},
     "output_type": "execute_result"
    },
    {
     "data": {
      "image/png": "[encoded data removed]",
      "text/plain": [
       "<Figure size 360x360 with 1 Axes>"
      ]
     },
     "metadata": {},
     "output_type": "display_data"
    }
   ],
   "source": [
    "spectral.imshow(classes = pred_dost,figsize =(5,5))"
   ]
  },
  {
   "cell_type": "code",
   "execution_count": 94,
   "metadata": {},
   "outputs": [
    {
     "data": {
      "text/plain": [
       "ImageView object:\n",
       "  Interpolation       :  <default>"
      ]
     },
     "execution_count": 94,
     "metadata": {},
     "output_type": "execute_result"
    },
    {
     "data": {
      "image/png": "[encoded data removed]",
      "text/plain": [
       "<Figure size 360x360 with 1 Axes>"
      ]
     },
     "metadata": {},
     "output_type": "display_data"
    }
   ],
   "source": [
    "spectral.imshow(classes = pred_map,figsize =(5,5))"
   ]
  },
  {
   "cell_type": "code",
   "execution_count": 1,
   "metadata": {},
   "outputs": [
    {
     "ename": "NameError",
     "evalue": "name 'pred_map' is not defined",
     "output_type": "error",
     "traceback": [
      "\u001b[1;31m---------------------------------------------------------------------------\u001b[0m",
      "\u001b[1;31mNameError\u001b[0m                                 Traceback (most recent call last)",
      "\u001b[1;32m<ipython-input-1-abefba1ccacb>\u001b[0m in \u001b[0;36m<module>\u001b[1;34m()\u001b[0m\n\u001b[1;32m----> 1\u001b[1;33m \u001b[0mpred_map\u001b[0m\u001b[1;33m.\u001b[0m\u001b[0mdtypr\u001b[0m\u001b[1;33m\u001b[0m\u001b[0m\n\u001b[0m",
      "\u001b[1;31mNameError\u001b[0m: name 'pred_map' is not defined"
     ]
    }
   ],
   "source": [
    "pred_map.dtypr"
   ]
  },
  {
   "cell_type": "code",
   "execution_count": 97,
   "metadata": {},
   "outputs": [],
   "source": [
    "%matplotlib inline\n",
    "import matplotlib.pyplot as plt"
   ]
  },
  {
   "cell_type": "code",
   "execution_count": 98,
   "metadata": {},
   "outputs": [
    {
     "data": {
      "text/plain": [
       "<matplotlib.image.AxesImage at 0x1fa00671dd8>"
      ]
     },
     "execution_count": 98,
     "metadata": {},
     "output_type": "execute_result"
    },
    {
     "data": {
      "image/png": "[encoded data removed]",
      "text/plain": [
       "<Figure size 288x288 with 1 Axes>"
      ]
     },
     "metadata": {},
     "output_type": "display_data"
    }
   ],
   "source": [
    "plt.matshow(confusion_matrix(y[y!=0].reshape(-1),pred_dost[y!=0].reshape(-1)))"
   ]
  },
  {
   "cell_type": "code",
   "execution_count": 95,
   "metadata": {},
   "outputs": [
    {
     "data": {
      "text/plain": [
       "9145"
      ]
     },
     "execution_count": 95,
     "metadata": {},
     "output_type": "execute_result"
    }
   ],
   "source": [
    "np.sum(pred_dost.reshape(-1)[yPatches!=0] == yPatches[yPatches!=0])"
   ]
  },
  {
   "cell_type": "code",
   "execution_count": 63,
   "metadata": {},
   "outputs": [
    {
     "ename": "IndexError",
     "evalue": "boolean index did not match indexed array along dimension 0; dimension is 145 but corresponding boolean dimension is 21025",
     "output_type": "error",
     "traceback": [
      "\u001b[1;31m---------------------------------------------------------------------------\u001b[0m",
      "\u001b[1;31mIndexError\u001b[0m                                Traceback (most recent call last)",
      "\u001b[1;32m<ipython-input-63-a2db333bef4f>\u001b[0m in \u001b[0;36m<module>\u001b[1;34m()\u001b[0m\n\u001b[1;32m----> 1\u001b[1;33m \u001b[0mpred_dost\u001b[0m\u001b[1;33m[\u001b[0m\u001b[0myPatches\u001b[0m\u001b[1;33m!=\u001b[0m\u001b[1;36m0\u001b[0m\u001b[1;33m]\u001b[0m\u001b[1;33m.\u001b[0m\u001b[0mreshape\u001b[0m\u001b[1;33m(\u001b[0m\u001b[1;33m-\u001b[0m\u001b[1;36m1\u001b[0m\u001b[1;33m,\u001b[0m\u001b[1;36m1\u001b[0m\u001b[1;33m)\u001b[0m\u001b[1;33m.\u001b[0m\u001b[0mshape\u001b[0m\u001b[1;33m\u001b[0m\u001b[0m\n\u001b[0m",
      "\u001b[1;31mIndexError\u001b[0m: boolean index did not match indexed array along dimension 0; dimension is 145 but corresponding boolean dimension is 21025"
     ]
    }
   ],
   "source": [
    "pred_dost[yPatches!=0].reshape(-1,1).shape"
   ]
  },
  {
   "cell_type": "code",
   "execution_count": 67,
   "metadata": {},
   "outputs": [
    {
     "data": {
      "text/plain": [
       "0.734084314729476"
      ]
     },
     "execution_count": 67,
     "metadata": {},
     "output_type": "execute_result"
    }
   ],
   "source": [
    "8602/(X_train.shape[0]+X_test.shape[0])"
   ]
  },
  {
   "cell_type": "code",
   "execution_count": null,
   "metadata": {},
   "outputs": [],
   "source": []
  }
 ],
 "metadata": {
  "kernelspec": {
   "display_name": "Python 3",
   "language": "python",
   "name": "python3"
  },
  "language_info": {
   "codemirror_mode": {
    "name": "ipython",
    "version": 3
   },
   "file_extension": ".py",
   "mimetype": "text/x-python",
   "name": "python",
   "nbconvert_exporter": "python",
   "pygments_lexer": "ipython3",
   "version": "3.5.5"
  }
 },
 "nbformat": 4,
 "nbformat_minor": 2
}
