{
 "cells": [
  {
   "cell_type": "code",
   "execution_count": 1,
   "metadata": {},
   "outputs": [
    {
     "name": "stderr",
     "output_type": "stream",
     "text": [
      "Using TensorFlow backend.\n"
     ]
    }
   ],
   "source": [
    "import numpy as np\n",
    "import scipy\n",
    "import os\n",
    "from keras.models import Sequential\n",
    "from keras.layers import Dense, Dropout, Flatten\n",
    "from keras.layers import Conv2D, MaxPooling2D,Conv3D,MaxPooling3D\n",
    "from keras.optimizers import SGD\n",
    "from keras import backend as K\n",
    "K.set_image_dim_ordering('th')\n",
    "from keras.utils import np_utils\n",
    "import keras\n",
    "#from sklearn.cross_validation import StratifiedKFold"
   ]
  },
  {
   "cell_type": "code",
   "execution_count": 2,
   "metadata": {},
   "outputs": [
    {
     "name": "stdout",
     "output_type": "stream",
     "text": [
      "/home/dkoder/deep_learning_practice/hyperspectral imaging/final year project/codes/Classification-of-Hyperspectral-Image-master\n"
     ]
    }
   ],
   "source": [
    "PATH = os.getcwd()\n",
    "print (PATH)"
   ]
  },
  {
   "cell_type": "code",
   "execution_count": 36,
   "metadata": {},
   "outputs": [],
   "source": [
    "# Global Variables\n",
    "windowSize = 7\n",
    "numPCAcomponents = 64\n",
    "testRatio = 0.95"
   ]
  },
  {
   "cell_type": "markdown",
   "metadata": {},
   "source": [
    "# Load Training Dataset"
   ]
  },
  {
   "cell_type": "code",
   "execution_count": 349,
   "metadata": {},
   "outputs": [],
   "source": [
    "X_train = np.load(\"../../data/XtrainWindowSize\" \n",
    "                  + str(windowSize) + \"PCA\" + str(numPCAcomponents) + \"testRatio\" + str(testRatio)  + \".npy\")\n",
    "\n",
    "y_train = np.load(\"../../data/ytrainWindowSize\" \n",
    "                  + str(windowSize) + \"PCA\" + str(numPCAcomponents) + \"testRatio\" + str(testRatio) + \".npy\")"
   ]
  },
  {
   "cell_type": "code",
   "execution_count": 37,
   "metadata": {},
   "outputs": [],
   "source": [
    "X_train = np.load(\"../../data/XtrainWindowSize\" \n",
    "                  + str(windowSize) + \"PCA\" + str(numPCAcomponents) + \"testRatio\" + str(testRatio)  + \"_dost.npy\")\n",
    "\n",
    "y_train = np.load(\"../../data/ytrainWindowSize\" \n",
    "                  + str(windowSize) + \"PCA\" + str(numPCAcomponents) + \"testRatio\" + str(testRatio) + \"_dost.npy\")"
   ]
  },
  {
   "cell_type": "code",
   "execution_count": 17,
   "metadata": {},
   "outputs": [],
   "source": [
    "X_train = np.load(\"../../data/XtrainWindowSize\" \n",
    "                  + str(windowSize)  + \".npy\")\n",
    "\n",
    "y_train = np.load(\"../../data/ytrainWindowSize\" \n",
    "                  + str(windowSize) + \".npy\")"
   ]
  },
  {
   "cell_type": "code",
   "execution_count": 38,
   "metadata": {},
   "outputs": [],
   "source": [
    "# Reshape into (numberofsumples, channels, height, width)\n",
    "# X_train = np.reshape(X_train, (X_train.shape[0],X_train.shape[3], X_train.shape[1], X_train.shape[2]))"
   ]
  },
  {
   "cell_type": "code",
   "execution_count": 39,
   "metadata": {},
   "outputs": [],
   "source": [
    "# convert class labels to on-hot encoding\n",
    "y_train = np_utils.to_categorical(y_train)"
   ]
  },
  {
   "cell_type": "code",
   "execution_count": 40,
   "metadata": {},
   "outputs": [
    {
     "name": "stdout",
     "output_type": "stream",
     "text": [
      "(64, 7, 7)\n"
     ]
    }
   ],
   "source": [
    "# Define the input shape \n",
    "input_shape= X_train[...][0].shape\n",
    "print(input_shape)"
   ]
  },
  {
   "cell_type": "code",
   "execution_count": 41,
   "metadata": {},
   "outputs": [],
   "source": [
    "# number of filters\n",
    "C1 = 64"
   ]
  },
  {
   "cell_type": "code",
   "execution_count": 64,
   "metadata": {},
   "outputs": [],
   "source": [
    "# Define the model\n",
    "model = Sequential()\n",
    "\n",
    "model.add(Conv2D(2*C1, (3, 3),data_format=\"channels_last\", activation='relu', input_shape=input_shape))\n",
    "model.add(Dropout(0.4))\n",
    "# model.add(MaxPooling3D(pool_size=()))\n",
    "model.add(Conv2D(C1, (3, 3), data_format=\"channels_last\",activation='relu'))\n",
    "model.add(Dropout(0.4))\n",
    "# model.add(MaxPooling3D((2,2,2)))\n",
    "# model.add(Conv3D(C1, (2,3, 3), activation='relu'))\n",
    "# model.add(Dropout(0.25))\n",
    "\n",
    "\n",
    "\n",
    "\n",
    "\n",
    "model.add(Flatten())\n",
    "model.add(Dense(256, activation='relu'))\n",
    "model.add(Dropout(0.5))\n",
    "model.add(Dense(16, activation='softmax'))"
   ]
  },
  {
   "cell_type": "code",
   "execution_count": 65,
   "metadata": {},
   "outputs": [],
   "source": [
    "sgd = SGD(lr=0.0001, decay=1e-6, momentum=0.9, nesterov=True)\n",
    "model.compile(loss='categorical_crossentropy', optimizer=sgd, metrics=['accuracy'])"
   ]
  },
  {
   "cell_type": "code",
   "execution_count": 66,
   "metadata": {
    "scrolled": true
   },
   "outputs": [
    {
     "name": "stdout",
     "output_type": "stream",
     "text": [
      "_________________________________________________________________\n",
      "Layer (type)                 Output Shape              Param #   \n",
      "=================================================================\n",
      "conv2d_5 (Conv2D)            (None, 128, 5, 5)         73856     \n",
      "_________________________________________________________________\n",
      "dropout_7 (Dropout)          (None, 128, 5, 5)         0         \n",
      "_________________________________________________________________\n",
      "conv2d_6 (Conv2D)            (None, 64, 3, 3)          73792     \n",
      "_________________________________________________________________\n",
      "dropout_8 (Dropout)          (None, 64, 3, 3)          0         \n",
      "_________________________________________________________________\n",
      "flatten_3 (Flatten)          (None, 576)               0         \n",
      "_________________________________________________________________\n",
      "dense_5 (Dense)              (None, 256)               147712    \n",
      "_________________________________________________________________\n",
      "dropout_9 (Dropout)          (None, 256)               0         \n",
      "_________________________________________________________________\n",
      "dense_6 (Dense)              (None, 16)                4112      \n",
      "=================================================================\n",
      "Total params: 299,472\n",
      "Trainable params: 299,472\n",
      "Non-trainable params: 0\n",
      "_________________________________________________________________\n",
      "None\n"
     ]
    }
   ],
   "source": [
    "print(model.summary())"
   ]
  },
  {
   "cell_type": "code",
   "execution_count": 67,
   "metadata": {
    "scrolled": false
   },
   "outputs": [
    {
     "name": "stdout",
     "output_type": "stream",
     "text": [
      "Epoch 1/100\n",
      "1981/1981 [==============================] - 2s 909us/step - loss: 3.0163 - acc: 0.0697\n",
      "Epoch 2/100\n",
      "1981/1981 [==============================] - 2s 758us/step - loss: 2.7553 - acc: 0.1166\n",
      "Epoch 3/100\n",
      "1981/1981 [==============================] - 1s 746us/step - loss: 2.6386 - acc: 0.1676\n",
      "Epoch 4/100\n",
      "1981/1981 [==============================] - 1s 754us/step - loss: 2.5675 - acc: 0.2029\n",
      "Epoch 5/100\n",
      "1981/1981 [==============================] - 1s 754us/step - loss: 2.4877 - acc: 0.2393\n",
      "Epoch 6/100\n",
      "1981/1981 [==============================] - 1s 747us/step - loss: 2.3856 - acc: 0.2786\n",
      "Epoch 7/100\n",
      "1981/1981 [==============================] - 1s 751us/step - loss: 2.3241 - acc: 0.2882\n",
      "Epoch 8/100\n",
      "1981/1981 [==============================] - 2s 822us/step - loss: 2.2375 - acc: 0.3256\n",
      "Epoch 9/100\n",
      "1981/1981 [==============================] - 2s 767us/step - loss: 2.1754 - acc: 0.3433\n",
      "Epoch 10/100\n",
      "1981/1981 [==============================] - 1s 741us/step - loss: 2.1001 - acc: 0.3529\n",
      "Epoch 11/100\n",
      "1981/1981 [==============================] - 1s 738us/step - loss: 2.0526 - acc: 0.3690\n",
      "Epoch 12/100\n",
      "1981/1981 [==============================] - 1s 754us/step - loss: 2.0187 - acc: 0.3720\n",
      "Epoch 13/100\n",
      "1981/1981 [==============================] - 1s 737us/step - loss: 1.9699 - acc: 0.3892\n",
      "Epoch 14/100\n",
      "1981/1981 [==============================] - 1s 753us/step - loss: 1.9197 - acc: 0.3968\n",
      "Epoch 15/100\n",
      "1981/1981 [==============================] - 1s 745us/step - loss: 1.8617 - acc: 0.4296\n",
      "Epoch 16/100\n",
      "1981/1981 [==============================] - 1s 741us/step - loss: 1.8182 - acc: 0.4498\n",
      "Epoch 17/100\n",
      "1981/1981 [==============================] - 1s 742us/step - loss: 1.7694 - acc: 0.4467\n",
      "Epoch 18/100\n",
      "1981/1981 [==============================] - 1s 747us/step - loss: 1.7196 - acc: 0.4715\n",
      "Epoch 19/100\n",
      "1981/1981 [==============================] - 1s 743us/step - loss: 1.6943 - acc: 0.4730\n",
      "Epoch 20/100\n",
      "1981/1981 [==============================] - 1s 734us/step - loss: 1.6193 - acc: 0.4886\n",
      "Epoch 21/100\n",
      "1981/1981 [==============================] - 1s 748us/step - loss: 1.5951 - acc: 0.5088\n",
      "Epoch 22/100\n",
      "1981/1981 [==============================] - 1s 743us/step - loss: 1.5647 - acc: 0.5048\n",
      "Epoch 23/100\n",
      "1981/1981 [==============================] - 2s 775us/step - loss: 1.5238 - acc: 0.5189\n",
      "Epoch 24/100\n",
      "1981/1981 [==============================] - 1s 752us/step - loss: 1.4853 - acc: 0.5462\n",
      "Epoch 25/100\n",
      "1981/1981 [==============================] - 1s 742us/step - loss: 1.4309 - acc: 0.5492\n",
      "Epoch 26/100\n",
      "1981/1981 [==============================] - 1s 745us/step - loss: 1.3834 - acc: 0.5714\n",
      "Epoch 27/100\n",
      "1981/1981 [==============================] - 1s 732us/step - loss: 1.3766 - acc: 0.5694\n",
      "Epoch 28/100\n",
      "1981/1981 [==============================] - 1s 751us/step - loss: 1.3166 - acc: 0.5820\n",
      "Epoch 29/100\n",
      "1981/1981 [==============================] - 1s 734us/step - loss: 1.3067 - acc: 0.5795\n",
      "Epoch 30/100\n",
      "1981/1981 [==============================] - 1s 749us/step - loss: 1.2274 - acc: 0.6254\n",
      "Epoch 31/100\n",
      "1981/1981 [==============================] - 1s 746us/step - loss: 1.2205 - acc: 0.6012\n",
      "Epoch 32/100\n",
      "1981/1981 [==============================] - 1s 740us/step - loss: 1.1785 - acc: 0.6234\n",
      "Epoch 33/100\n",
      "1981/1981 [==============================] - 1s 741us/step - loss: 1.1845 - acc: 0.6270\n",
      "Epoch 34/100\n",
      "1981/1981 [==============================] - 1s 757us/step - loss: 1.1319 - acc: 0.6436\n",
      "Epoch 35/100\n",
      "1981/1981 [==============================] - 2s 807us/step - loss: 1.1165 - acc: 0.6487\n",
      "Epoch 36/100\n",
      "1981/1981 [==============================] - 1s 733us/step - loss: 1.0616 - acc: 0.6709\n",
      "Epoch 37/100\n",
      "1981/1981 [==============================] - 1s 747us/step - loss: 1.0294 - acc: 0.6764\n",
      "Epoch 38/100\n",
      "1981/1981 [==============================] - 1s 733us/step - loss: 1.0095 - acc: 0.6805\n",
      "Epoch 39/100\n",
      "1981/1981 [==============================] - 1s 749us/step - loss: 1.0070 - acc: 0.6825\n",
      "Epoch 40/100\n",
      "1981/1981 [==============================] - 1s 737us/step - loss: 0.9848 - acc: 0.6875\n",
      "Epoch 41/100\n",
      "1981/1981 [==============================] - 1s 735us/step - loss: 0.9297 - acc: 0.7057\n",
      "Epoch 42/100\n",
      "1981/1981 [==============================] - 1s 735us/step - loss: 0.9135 - acc: 0.7224\n",
      "Epoch 43/100\n",
      "1981/1981 [==============================] - 1s 732us/step - loss: 0.8899 - acc: 0.7335\n",
      "Epoch 44/100\n",
      "1981/1981 [==============================] - 1s 738us/step - loss: 0.8834 - acc: 0.7224\n",
      "Epoch 45/100\n",
      "1981/1981 [==============================] - 1s 747us/step - loss: 0.8520 - acc: 0.7224\n",
      "Epoch 46/100\n",
      "1981/1981 [==============================] - 1s 751us/step - loss: 0.8252 - acc: 0.7330\n",
      "Epoch 47/100\n",
      "1981/1981 [==============================] - 1s 730us/step - loss: 0.8317 - acc: 0.7456\n",
      "Epoch 48/100\n",
      "1981/1981 [==============================] - 1s 731us/step - loss: 0.8115 - acc: 0.7390\n",
      "Epoch 49/100\n",
      "1981/1981 [==============================] - 1s 742us/step - loss: 0.7869 - acc: 0.7577\n",
      "Epoch 50/100\n",
      "1981/1981 [==============================] - 1s 737us/step - loss: 0.7528 - acc: 0.7592\n",
      "Epoch 51/100\n",
      "1981/1981 [==============================] - 1s 736us/step - loss: 0.7530 - acc: 0.7653\n",
      "Epoch 52/100\n",
      "1981/1981 [==============================] - 1s 740us/step - loss: 0.7359 - acc: 0.7663\n",
      "Epoch 53/100\n",
      "1981/1981 [==============================] - 1s 745us/step - loss: 0.7282 - acc: 0.7617\n",
      "Epoch 54/100\n",
      "1981/1981 [==============================] - 1s 728us/step - loss: 0.7047 - acc: 0.7713\n",
      "Epoch 55/100\n",
      "1981/1981 [==============================] - 1s 742us/step - loss: 0.6839 - acc: 0.7814\n",
      "Epoch 56/100\n",
      "1981/1981 [==============================] - 2s 768us/step - loss: 0.6543 - acc: 0.7961\n",
      "Epoch 57/100\n",
      "1981/1981 [==============================] - 1s 740us/step - loss: 0.6611 - acc: 0.7910\n",
      "Epoch 58/100\n",
      "1981/1981 [==============================] - 1s 723us/step - loss: 0.6458 - acc: 0.7986\n",
      "Epoch 59/100\n",
      "1981/1981 [==============================] - 1s 737us/step - loss: 0.6389 - acc: 0.7890\n",
      "Epoch 60/100\n",
      "1981/1981 [==============================] - 1s 743us/step - loss: 0.6059 - acc: 0.8188\n",
      "Epoch 61/100\n",
      "1981/1981 [==============================] - 1s 723us/step - loss: 0.6237 - acc: 0.7996\n",
      "Epoch 62/100\n",
      "1981/1981 [==============================] - 1s 728us/step - loss: 0.5819 - acc: 0.8132\n",
      "Epoch 63/100\n",
      "1981/1981 [==============================] - 1s 729us/step - loss: 0.5890 - acc: 0.8142\n",
      "Epoch 64/100\n",
      "1981/1981 [==============================] - 1s 733us/step - loss: 0.5569 - acc: 0.8183\n",
      "Epoch 65/100\n",
      "1981/1981 [==============================] - 1s 730us/step - loss: 0.5651 - acc: 0.8188\n",
      "Epoch 66/100\n",
      "1981/1981 [==============================] - 1s 740us/step - loss: 0.5645 - acc: 0.8203\n",
      "Epoch 67/100\n",
      "1981/1981 [==============================] - 1s 735us/step - loss: 0.5394 - acc: 0.8395\n",
      "Epoch 68/100\n",
      "1981/1981 [==============================] - 1s 743us/step - loss: 0.5335 - acc: 0.8319\n",
      "Epoch 69/100\n",
      "1981/1981 [==============================] - 1s 731us/step - loss: 0.5286 - acc: 0.8349\n",
      "Epoch 70/100\n",
      "1981/1981 [==============================] - 1s 732us/step - loss: 0.5088 - acc: 0.8440\n",
      "Epoch 71/100\n",
      "1981/1981 [==============================] - 1s 734us/step - loss: 0.5147 - acc: 0.8279\n",
      "Epoch 72/100\n",
      "1981/1981 [==============================] - 1s 737us/step - loss: 0.5145 - acc: 0.8395\n",
      "Epoch 73/100\n",
      "1981/1981 [==============================] - 1s 743us/step - loss: 0.4697 - acc: 0.8536\n",
      "Epoch 74/100\n",
      "1981/1981 [==============================] - 1s 749us/step - loss: 0.4867 - acc: 0.8400\n",
      "Epoch 75/100\n",
      "1981/1981 [==============================] - 1s 732us/step - loss: 0.4545 - acc: 0.8536\n",
      "Epoch 76/100\n",
      "1981/1981 [==============================] - 1s 740us/step - loss: 0.4833 - acc: 0.8405\n",
      "Epoch 77/100\n",
      "1981/1981 [==============================] - 1s 729us/step - loss: 0.4550 - acc: 0.8531\n",
      "Epoch 78/100\n",
      "1981/1981 [==============================] - 1s 733us/step - loss: 0.4392 - acc: 0.8602\n",
      "Epoch 79/100\n",
      "1981/1981 [==============================] - 1s 721us/step - loss: 0.4436 - acc: 0.8561\n",
      "Epoch 80/100\n",
      "1981/1981 [==============================] - 1s 719us/step - loss: 0.4200 - acc: 0.8642\n",
      "Epoch 81/100\n",
      "1981/1981 [==============================] - 1s 726us/step - loss: 0.4225 - acc: 0.8708\n",
      "Epoch 82/100\n",
      "1981/1981 [==============================] - 1s 755us/step - loss: 0.4317 - acc: 0.8637\n",
      "Epoch 83/100\n",
      "1981/1981 [==============================] - 2s 786us/step - loss: 0.4141 - acc: 0.8612\n",
      "Epoch 84/100\n",
      "1981/1981 [==============================] - 2s 757us/step - loss: 0.3968 - acc: 0.8783\n",
      "Epoch 85/100\n",
      "1981/1981 [==============================] - 1s 746us/step - loss: 0.3934 - acc: 0.8733\n",
      "Epoch 86/100\n",
      "1981/1981 [==============================] - 1s 756us/step - loss: 0.3799 - acc: 0.8804\n",
      "Epoch 87/100\n",
      "1981/1981 [==============================] - 2s 772us/step - loss: 0.4003 - acc: 0.8738\n",
      "Epoch 88/100\n",
      "1981/1981 [==============================] - 2s 762us/step - loss: 0.3967 - acc: 0.8703\n",
      "Epoch 89/100\n",
      "1981/1981 [==============================] - 2s 762us/step - loss: 0.3846 - acc: 0.8819\n",
      "Epoch 90/100\n",
      "1981/1981 [==============================] - 1s 757us/step - loss: 0.3534 - acc: 0.8955\n",
      "Epoch 91/100\n",
      "1981/1981 [==============================] - 2s 765us/step - loss: 0.3679 - acc: 0.8824\n",
      "Epoch 92/100\n",
      "1981/1981 [==============================] - 2s 762us/step - loss: 0.3679 - acc: 0.8819\n",
      "Epoch 93/100\n",
      "1981/1981 [==============================] - 2s 764us/step - loss: 0.3679 - acc: 0.8783\n",
      "Epoch 94/100\n",
      "1981/1981 [==============================] - 2s 766us/step - loss: 0.3525 - acc: 0.8849\n",
      "Epoch 95/100\n",
      "1981/1981 [==============================] - 2s 760us/step - loss: 0.3440 - acc: 0.8915\n",
      "Epoch 96/100\n",
      "1981/1981 [==============================] - 2s 762us/step - loss: 0.3560 - acc: 0.8874\n",
      "Epoch 97/100\n",
      "1981/1981 [==============================] - 1s 752us/step - loss: 0.3502 - acc: 0.8859\n",
      "Epoch 98/100\n",
      "1981/1981 [==============================] - 2s 822us/step - loss: 0.3309 - acc: 0.8894\n",
      "Epoch 99/100\n",
      "1981/1981 [==============================] - 1s 751us/step - loss: 0.3229 - acc: 0.8995\n",
      "Epoch 100/100\n",
      "1981/1981 [==============================] - 1s 755us/step - loss: 0.3225 - acc: 0.8970\n"
     ]
    }
   ],
   "source": [
    "history = model.fit(X_train,\n",
    "    y_train,\n",
    "    batch_size=16,\n",
    "    epochs=100,\n",
    "    #show_accuracy=False,\n",
    "#     verbose=2,\n",
    "#     validation_split = 0.1,\n",
    "#     callbacks = [\n",
    "#         keras.callbacks.ModelCheckpoint(filepath, monitor='val_loss', verbose=0, save_best_only=True, mode='auto'),\n",
    "#         keras.callbacks.EarlyStopping(monitor='val_acc', patience=10, verbose=0, mode='auto'),\n",
    "#         keras.callbacks.EarlyStopping(monitor='val_loss', patience=10, verbose=0, mode='auto')\n",
    "\n",
    "    )"
   ]
  },
  {
   "cell_type": "code",
   "execution_count": 87,
   "metadata": {},
   "outputs": [],
   "source": [
    "# history = model.fit(X_train,\n",
    "#     y_train,\n",
    "#     batch_size=64,\n",
    "#     epochs=400,\n",
    "#     #show_accuracy=False,\n",
    "# #     verbose=2,\n",
    "#     validation_split = 0.1,\n",
    "#     initial_epoch=300,\n",
    "#     callbacks = [\n",
    "# #         keras.callbacks.ModelCheckpoint(filepath, monitor='val_loss', verbose=0, save_best_only=True, mode='auto'),\n",
    "#         keras.callbacks.EarlyStopping(monitor='val_acc', patience=10, verbose=0, mode='auto'),\n",
    "#         keras.callbacks.EarlyStopping(monitor='val_loss', patience=10, verbose=0, mode='auto')\n",
    "#     ])"
   ]
  },
  {
   "cell_type": "code",
   "execution_count": 46,
   "metadata": {},
   "outputs": [],
   "source": [
    "import h5py\n",
    "from keras.models import load_model\n",
    "import time"
   ]
  },
  {
   "cell_type": "code",
   "execution_count": 47,
   "metadata": {},
   "outputs": [
    {
     "name": "stdout",
     "output_type": "stream",
     "text": [
      "my_model_pca_0.956472018-09-11 16:35.h5\n"
     ]
    }
   ],
   "source": [
    "print('my_model_pca_'+str(testRatio)+str(numPCAcomponents)+str(windowSize)+str(time.strftime(\"%Y-%m-%d %H:%M\"))+'.h5')"
   ]
  },
  {
   "cell_type": "code",
   "execution_count": 48,
   "metadata": {},
   "outputs": [
    {
     "name": "stdout",
     "output_type": "stream",
     "text": [
      "my_model_pca_0.956472018-09-11 16:35_dost.h5\n"
     ]
    }
   ],
   "source": [
    "filename = 'my_model_pca_'+str(testRatio)+str(numPCAcomponents)+str(windowSize)+str(time.strftime(\"%Y-%m-%d %H:%M\"))+'_dost.h5'\n",
    "print(filename)\n",
    "model.save(filename)"
   ]
  },
  {
   "cell_type": "code",
   "execution_count": 17,
   "metadata": {},
   "outputs": [],
   "source": [
    "# Import the necessary libraries\n",
    "from sklearn.decomposition import PCA\n",
    "import os\n",
    "import scipy.io as sio\n",
    "import numpy as np\n",
    "from keras.models import load_model\n",
    "from keras.utils import np_utils\n",
    "from sklearn.metrics import classification_report, confusion_matrix\n",
    "import itertools\n",
    "import spectral\n",
    "import scipy as sp\n",
    "from scipy import fftpack"
   ]
  },
  {
   "cell_type": "code",
   "execution_count": 18,
   "metadata": {},
   "outputs": [],
   "source": [
    "# Global Variables\n",
    "windowSize = 7\n",
    "numPCAcomponents = 64\n",
    "testRatio = 0.95"
   ]
  },
  {
   "cell_type": "code",
   "execution_count": 49,
   "metadata": {},
   "outputs": [],
   "source": [
    "def loadIndianPinesData():\n",
    "    data_path = os.path.join(os.getcwd(),'data')\n",
    "    data = sio.loadmat(\"../../../Datasets/Indian pines/Indian_pines_corrected.mat\")['indian_pines_corrected']\n",
    "    labels = sio.loadmat(\"../../../Datasets/Indian pines/Indian_pines_gt.mat\")['indian_pines_gt']\n",
    "    \n",
    "    return data, labels\n",
    "\n",
    "def reports (X_test,y_test,model):\n",
    "    Y_pred = model.predict(X_test,batch_size=8)\n",
    "    y_pred = np.argmax(Y_pred, axis=1)\n",
    "    target_names = ['Alfalfa', 'Corn-notill', 'Corn-mintill', 'Corn'\n",
    "               ,'Grass-pasture', 'Grass-trees', 'Grass-pasture-mowed', \n",
    "                'Hay-windrowed', 'Oats', 'Soybean-notill', 'Soybean-mintill',\n",
    "               'Soybean-clean', 'Wheat', 'Woods', 'Buildings-Grass-Trees-Drives',\n",
    "               'Stone-Steel-Towers']\n",
    "\n",
    "    \n",
    "    classification = classification_report(np.argmax(y_test, axis=1), y_pred, target_names=target_names)\n",
    "    confusion = confusion_matrix(np.argmax(y_test, axis=1), y_pred)\n",
    "    score = model.evaluate(X_test, y_test, batch_size=8)\n",
    "    Test_Loss =  score[0]*100\n",
    "    Test_accuracy = score[1]*100\n",
    "    \n",
    "    return classification, confusion, Test_Loss, Test_accuracy\n",
    "\n",
    "\n",
    "def applyPCA(X, numComponents=75):\n",
    "    newX = np.reshape(X, (-1, X.shape[2]))\n",
    "    pca = PCA(n_components=numComponents, whiten=True)\n",
    "    newX = pca.fit_transform(newX)\n",
    "    newX = np.reshape(newX, (X.shape[0],X.shape[1], numComponents))\n",
    "    return newX, pca\n",
    "\n",
    "def Patch(data,height_index,width_index):\n",
    "    #transpose_array = data.transpose((2,0,1))\n",
    "    #print transpose_array.shape\n",
    "    height_slice = slice(height_index, height_index+PATCH_SIZE)\n",
    "    width_slice = slice(width_index, width_index+PATCH_SIZE)\n",
    "    patch = data[height_slice, width_slice, :]\n",
    "    \n",
    "    return patch"
   ]
  },
  {
   "cell_type": "code",
   "execution_count": 80,
   "metadata": {},
   "outputs": [],
   "source": [
    "X_test = np.load(\"../../data/XtestWindowSize\" \n",
    "                 + str(windowSize) + \"PCA\" + str(numPCAcomponents) + \"testRatio\" + str(testRatio) + \"_dost.npy\")\n",
    "y_test = np.load(\"../../data/ytestWindowSize\" \n",
    "                 + str(windowSize) + \"PCA\" + str(numPCAcomponents) + \"testRatio\" + str(testRatio) + \"_dost.npy\")"
   ]
  },
  {
   "cell_type": "code",
   "execution_count": 81,
   "metadata": {},
   "outputs": [],
   "source": [
    "X_test  = np.reshape(X_test, (X_test.shape[0], X_test.shape[3], X_test.shape[1], X_test.shape[2]))\n",
    "y_test_ = np_utils.to_categorical(y_test)"
   ]
  },
  {
   "cell_type": "code",
   "execution_count": 384,
   "metadata": {},
   "outputs": [],
   "source": [
    "# load the model architecture and weights\n",
    "model = load_model(filename)"
   ]
  },
  {
   "cell_type": "code",
   "execution_count": 69,
   "metadata": {},
   "outputs": [
    {
     "name": "stdout",
     "output_type": "stream",
     "text": [
      "9737/9737 [==============================] - 4s 400us/step\n"
     ]
    }
   ],
   "source": [
    "classification, confusion, Test_loss, Test_accuracy = reports(X_test,y_test_,model)\n",
    "classification = str(classification)\n",
    "confusion = str(confusion)\n",
    "numComponents = 64\n",
    "file_name = 'report' + \"WindowSize\" + str(windowSize) + \"PCA\" + str(numComponents) + \"testRatio\" + str(testRatio) +\"_dost.txt\"\n",
    "with open(file_name, 'w+') as x_file:\n",
    "    x_file.write('{} Test loss (%)'.format(Test_loss))\n",
    "    x_file.write('\\n')\n",
    "    x_file.write('{} Test accuracy (%)'.format(Test_accuracy))\n",
    "    x_file.write('\\n')\n",
    "    x_file.write('\\n')\n",
    "    x_file.write('{}'.format(classification))\n",
    "    x_file.write('\\n')\n",
    "    x_file.write('{}'.format(confusion))"
   ]
  },
  {
   "cell_type": "code",
   "execution_count": 70,
   "metadata": {},
   "outputs": [],
   "source": [
    "# load the original image\n",
    "Xt, y = loadIndianPinesData()"
   ]
  },
  {
   "cell_type": "code",
   "execution_count": 71,
   "metadata": {},
   "outputs": [],
   "source": [
    "\n",
    "def dost_bw(l):\n",
    "    out = np.zeros(int(2*np.log2(l)))\n",
    "    l1 = np.arange(np.log2(l)-2,-1,-1)\n",
    "    l2 = np.arange(0,np.log2(l)-1)\n",
    "    out[1:int(1+np.log2(l)-1)]=l1\n",
    "    out[-int(np.log2(l)-1):]=l2\n",
    "    \n",
    "    out = np.exp2(out).astype(np.int16)\n",
    "    return out\n",
    "\n",
    "def dost(inp):\n",
    "    l = inp.shape[0]\n",
    "    fft_inp = fftpack.fftshift(fftpack.fft(fftpack.ifftshift(inp,axes=0),axis=0),axes=0)\n",
    "    #plt.figure(figsize = (30,5))\n",
    "    #ax = np.linspace(-512,511,2**10)\n",
    "    #plt.plot(ax,fft_inp[0,:])\n",
    "    bw_inp = dost_bw(l)\n",
    "#     print(bw_inp)\n",
    "    k = 0\n",
    "    dost_inp = np.zeros_like(fft_inp)\n",
    "\n",
    "    for r in bw_inp:\n",
    "        if(r==1):\n",
    "            dost_inp[k,:] = fft_inp[k,:]\n",
    "            k = k+r\n",
    "        else:\n",
    "            dost_inp[k:r+k,:] = fftpack.fftshift(fftpack.ifft(fftpack.ifftshift(fft_inp[k:r+k,:],axes=0),axis=0),axes=0)\n",
    "            k = k+r\n",
    "\n",
    "#     plt.plot(fft_inp)\n",
    "    #plt.figure(figsize = (20,5))\n",
    "    #plt.plot(np.abs(dost_inp[0,:]))\n",
    "    \n",
    "    \n",
    "    return dost_inp\n",
    "    "
   ]
  },
  {
   "cell_type": "code",
   "execution_count": 72,
   "metadata": {},
   "outputs": [],
   "source": [
    "Xn = np.zeros([Xt.shape[0],Xt.shape[1],256])\n",
    "Xn[:,:,:200] = Xt"
   ]
  },
  {
   "cell_type": "code",
   "execution_count": 73,
   "metadata": {},
   "outputs": [],
   "source": [
    "Xn = dost(Xn.reshape([-1,Xn.shape[2]],order='F').T).T.reshape(Xn.shape,order='F')"
   ]
  },
  {
   "cell_type": "code",
   "execution_count": 74,
   "metadata": {},
   "outputs": [],
   "source": [
    "height = y.shape[0]\n",
    "width = y.shape[1]\n",
    "PATCH_SIZE = 7\n",
    "numComponents = 64"
   ]
  },
  {
   "cell_type": "code",
   "execution_count": 75,
   "metadata": {},
   "outputs": [
    {
     "name": "stderr",
     "output_type": "stream",
     "text": [
      "/home/dkoder/anaconda3/lib/python3.6/site-packages/sklearn/utils/validation.py:433: ComplexWarning: Casting complex values to real discards the imaginary part\n",
      "  array = np.array(array, dtype=dtype, order=order, copy=copy)\n"
     ]
    }
   ],
   "source": [
    "X,pca = applyPCA(Xn,numComponents=numComponents)"
   ]
  },
  {
   "cell_type": "code",
   "execution_count": 76,
   "metadata": {},
   "outputs": [],
   "source": [
    "# calculate the predicted image\n",
    "output_classes = np.zeros((height,width))\n",
    "# output_prob = np.zeros((height,width,16))\n",
    "for i in range(height-PATCH_SIZE+1):\n",
    "    for j in range(width-PATCH_SIZE+1):\n",
    "        target = int(y[i+PATCH_SIZE//2, j+PATCH_SIZE//2])\n",
    "        if target == 0 :\n",
    "            continue\n",
    "        else :\n",
    "            image_patch=Patch(X,i,j)\n",
    "            #print (image_patch.shape)\n",
    "            X_test_image = image_patch.reshape(1,image_patch.shape[2],image_patch.shape[0],image_patch.shape[1]).astype('float32')                                   \n",
    "            prediction = (model.predict_classes(X_test_image,batch_size = 8))                         \n",
    "            output_classes[i+PATCH_SIZE//2][j+PATCH_SIZE//2] = prediction+1\n",
    "#             prediction = (model.predict_proba(X_test_image,batch_size = 8))                         \n",
    "#             output_prob[i+PATCH_SIZE//2,j+PATCH_SIZE//2,:] = prediction"
   ]
  },
  {
   "cell_type": "code",
   "execution_count": null,
   "metadata": {},
   "outputs": [],
   "source": []
  },
  {
   "cell_type": "code",
   "execution_count": 408,
   "metadata": {},
   "outputs": [
    {
     "data": {
      "image/png": "[encoded data removed]",
      "text/plain": [
       "<Figure size 360x360 with 1 Axes>"
      ]
     },
     "metadata": {},
     "output_type": "display_data"
    }
   ],
   "source": [
    "ground_truth = spectral.imshow(classes = y,figsize =(5,5))"
   ]
  },
  {
   "cell_type": "code",
   "execution_count": 77,
   "metadata": {},
   "outputs": [
    {
     "data": {
      "image/png": "[encoded data removed]",
      "text/plain": [
       "<Figure size 360x360 with 1 Axes>"
      ]
     },
     "metadata": {},
     "output_type": "display_data"
    }
   ],
   "source": [
    "predict_image = spectral.imshow(classes = output_classes.astype(int),figsize =(5,5))"
   ]
  },
  {
   "cell_type": "code",
   "execution_count": 1,
   "metadata": {},
   "outputs": [
    {
     "name": "stdout",
     "output_type": "stream",
     "text": [
      "Collecting spectral\n",
      "  Downloading https://files.pythonhosted.org/packages/20/07/bd1c4af12954a66276e912e9b7e86c666f6875bc44465044a696d5a08ec0/spectral-0.19.tar.gz (141kB)\n",
      "Requirement already satisfied: numpy in c:\\users\\debakanta kar\\appdata\\roaming\\python\\python35\\site-packages (from spectral) (1.14.5)\n",
      "Building wheels for collected packages: spectral\n",
      "  Running setup.py bdist_wheel for spectral: started\n",
      "  Running setup.py bdist_wheel for spectral: finished with status 'done'\n",
      "  Stored in directory: C:\\Users\\debakanta kar\\AppData\\Local\\pip\\Cache\\wheels\\93\\7e\\15\\a200ebb0b557d54eb396234737f9593ce705ed98a954bf148b\n",
      "Successfully built spectral\n",
      "Installing collected packages: spectral\n",
      "Successfully installed spectral-0.19\n"
     ]
    }
   ],
   "source": [
    "!pip install spectral"
   ]
  },
  {
   "cell_type": "code",
   "execution_count": 78,
   "metadata": {},
   "outputs": [
    {
     "data": {
      "text/plain": [
       "array([ 0.,  0.,  0.,  0.,  0.,  0.,  0.,  0.,  0.,  0.,  0.,  0.,  0.,\n",
       "        0.,  2., 10.,  2.,  2.,  2.,  2.,  2.,  2., 11.,  2.,  0., 12.,\n",
       "        5.,  0.,  5., 14., 14., 14., 14., 14.,  0.,  0.,  5., 14., 14.,\n",
       "       15.,  2., 14., 14., 10.,  2.,  2., 10.,  2.,  2.,  2.,  0.,  0.,\n",
       "        0.,  0.,  0.,  0.,  0.,  0.,  0.,  0.,  0.,  0.,  0.,  0.,  0.,\n",
       "        0.,  0.,  0.,  0.,  0.,  0.,  0.,  0.,  0.,  0.,  0.,  0., 14.,\n",
       "        2., 14., 14., 12., 11., 12., 14., 12., 11., 14., 14.,  2., 12.,\n",
       "       15.,  2.,  2.,  6.,  0.,  0., 15.,  3., 14., 14., 15.,  2.,  2.,\n",
       "        6., 14., 14., 14., 15., 15., 15.,  6.,  5.,  2., 11.,  2., 14.,\n",
       "        2.,  0.,  0., 15., 15., 14., 14., 14., 14.,  2.,  3.,  3., 11.,\n",
       "        0.,  0.,  0.,  0.,  0.,  0.,  0.,  0.,  0.,  0.,  0.,  0.,  0.,\n",
       "        0.,  0.])"
      ]
     },
     "execution_count": 78,
     "metadata": {},
     "output_type": "execute_result"
    }
   ],
   "source": [
    "output_classes[10,:]"
   ]
  },
  {
   "cell_type": "code",
   "execution_count": 79,
   "metadata": {},
   "outputs": [
    {
     "ename": "NameError",
     "evalue": "name 'outputs' is not defined",
     "output_type": "error",
     "traceback": [
      "\u001b[0;31m---------------------------------------------------------------------------\u001b[0m",
      "\u001b[0;31mNameError\u001b[0m                                 Traceback (most recent call last)",
      "\u001b[0;32m<ipython-input-79-c7adf4d669f3>\u001b[0m in \u001b[0;36m<module>\u001b[0;34m()\u001b[0m\n\u001b[1;32m      1\u001b[0m \u001b[0;31m#dost based\u001b[0m\u001b[0;34m\u001b[0m\u001b[0;34m\u001b[0m\u001b[0m\n\u001b[0;32m----> 2\u001b[0;31m \u001b[0mpredict_image\u001b[0m \u001b[0;34m=\u001b[0m \u001b[0mspectral\u001b[0m\u001b[0;34m.\u001b[0m\u001b[0mimshow\u001b[0m\u001b[0;34m(\u001b[0m\u001b[0mclasses\u001b[0m \u001b[0;34m=\u001b[0m \u001b[0moutputs\u001b[0m\u001b[0;34m.\u001b[0m\u001b[0mastype\u001b[0m\u001b[0;34m(\u001b[0m\u001b[0mint\u001b[0m\u001b[0;34m)\u001b[0m\u001b[0;34m,\u001b[0m\u001b[0mfigsize\u001b[0m \u001b[0;34m=\u001b[0m\u001b[0;34m(\u001b[0m\u001b[0;36m5\u001b[0m\u001b[0;34m,\u001b[0m\u001b[0;36m5\u001b[0m\u001b[0;34m)\u001b[0m\u001b[0;34m)\u001b[0m\u001b[0;34m\u001b[0m\u001b[0m\n\u001b[0m",
      "\u001b[0;31mNameError\u001b[0m: name 'outputs' is not defined"
     ]
    }
   ],
   "source": [
    "#dost based\n",
    "predict_image = spectral.imshow(classes = outputs.astype(int),figsize =(5,5))"
   ]
  },
  {
   "cell_type": "code",
   "execution_count": 113,
   "metadata": {},
   "outputs": [
    {
     "data": {
      "text/plain": [
       "(145, 145, 16)"
      ]
     },
     "execution_count": 113,
     "metadata": {},
     "output_type": "execute_result"
    }
   ],
   "source": [
    "output_prob.shape"
   ]
  },
  {
   "cell_type": "code",
   "execution_count": 129,
   "metadata": {},
   "outputs": [],
   "source": [
    "def wls_filter(img,lambda_,alpha,L):\n",
    "    \n",
    "    epsilon = 1e-4\n",
    "    (r,c)=img.shape\n",
    "    k = r*c\n",
    "    \n",
    "    dy = np.diff(L,1,0)\n",
    "    dy = -lambda_/(np.power(np.abs(dy),alpha)+epsilon)\n",
    "    dy = np.lib.pad(dy,[(0,1),(0,0)],'constant',constant_values=0)\n",
    "    dy = dy.flatten('F')\n",
    "    \n",
    "    dx = np.diff(L,1,1)\n",
    "    dx = -lambda_/(np.power(np.abs(dx),alpha)+epsilon)\n",
    "    dx = np.lib.pad(dx,[(0,0),(0,1)],'constant',constant_values=0)\n",
    "    dx = dx.flatten('F')\n",
    "    \n",
    "    B = np.array([dx,dy])\n",
    "    A = sp.sparse.diags(B,[-r,-1],(k,k))\n",
    "    \n",
    "    e = dx\n",
    "    w = np.pad(dx,[(r,0)],'constant',constant_values=0)[:-r]\n",
    "    s = dy\n",
    "    n = np.pad(dy,[(1,0)],'constant',constant_values=0)[:-1]\n",
    "    \n",
    "    D = 1-(e+w+s+n)\n",
    "    \n",
    "    A = A + A.T + sp.sparse.diags(D.reshape(1,-1),[0],(k,k))\n",
    "    \n",
    "    result = sp.sparse.linalg.spsolve(A,img.reshape((-1,1),order = 'F'))\n",
    "    result = result.reshape((r,c),order='F')\n",
    "    \n",
    "    return result\n",
    "\n",
    "\n",
    "#%%\n",
    "def bt_wls(Y,prediction,errMat,lamda_,alpha):\n",
    "    \n",
    "    (m,n)=prediction.shape\n",
    "    bands = Y.shape[2]\n",
    "#     Y = Y.reshape((m,n,bands),order = 'F')\n",
    "    \n",
    "    numClasses = errMat.shape[2]\n",
    "#     errCube = errMat.reshape((m,n,numClasses),order = 'F')\n",
    "    errCube = errMat[...]\n",
    "    errCube = (errCube-np.min(errCube))/(np.max(errCube)-np.min(errCube))\n",
    "    \n",
    "    guidanceImage = applyPCA(Y,1)[0].reshape((m,n)) \n",
    "    \n",
    "    #guidanceImage = np.mean(np.log(Y.astype(np.double)+0.0001),2)\n",
    "    for i in range(numClasses):\n",
    "        slc = errCube[:,:,i]\n",
    "        slc[np.logical_not(prediction==i+1)]=1\n",
    "        slc = wls_filter(slc,lamda_,alpha,guidanceImage)\n",
    "        errCube[:,:,i]=slc\n",
    "       \n",
    "    new_prediction = np.argmin(errCube,2)+1\n",
    "    new_prediction[prediction==0] = 0\n",
    "    return new_prediction   "
   ]
  },
  {
   "cell_type": "code",
   "execution_count": 347,
   "metadata": {},
   "outputs": [],
   "source": [
    "pred_dost = bt_wls(Xt,output_classes,output_prob,0.3,0.8)"
   ]
  },
  {
   "cell_type": "code",
   "execution_count": 348,
   "metadata": {},
   "outputs": [
    {
     "data": {
      "image/png": "[encoded data removed]",
      "text/plain": [
       "<Figure size 360x360 with 1 Axes>"
      ]
     },
     "metadata": {},
     "output_type": "display_data"
    }
   ],
   "source": [
    "#dost_wls\n",
    "predict_image = spectral.imshow(classes = pred_dost.astype(int),figsize =(5,5))"
   ]
  },
  {
   "cell_type": "code",
   "execution_count": 241,
   "metadata": {},
   "outputs": [
    {
     "data": {
      "image/png": "[encoded data removed]",
      "text/plain": [
       "<Figure size 360x360 with 1 Axes>"
      ]
     },
     "metadata": {},
     "output_type": "display_data"
    }
   ],
   "source": [
    "#dost based\n",
    "predict_image = spectral.imshow(classes = output_classes.astype(int),figsize =(5,5))"
   ]
  },
  {
   "cell_type": "code",
   "execution_count": 216,
   "metadata": {},
   "outputs": [
    {
     "data": {
      "image/png": "[encoded data removed]",
      "text/plain": [
       "<Figure size 360x360 with 1 Axes>"
      ]
     },
     "metadata": {},
     "output_type": "display_data"
    }
   ],
   "source": [
    "ground_truth = spectral.imshow(classes = y,figsize =(5,5))"
   ]
  },
  {
   "cell_type": "code",
   "execution_count": 86,
   "metadata": {},
   "outputs": [
    {
     "data": {
      "text/plain": [
       "1068"
      ]
     },
     "execution_count": 86,
     "metadata": {},
     "output_type": "execute_result"
    }
   ],
   "source": [
    "np.sum(y[y!=0]==output_classes[y!=0])\n"
   ]
  },
  {
   "cell_type": "code",
   "execution_count": null,
   "metadata": {},
   "outputs": [],
   "source": []
  }
 ],
 "metadata": {
  "kernelspec": {
   "display_name": "Python 3",
   "language": "python",
   "name": "python3"
  },
  "language_info": {
   "codemirror_mode": {
    "name": "ipython",
    "version": 3
   },
   "file_extension": ".py",
   "mimetype": "text/x-python",
   "name": "python",
   "nbconvert_exporter": "python",
   "pygments_lexer": "ipython3",
   "version": "3.5.5"
  }
 },
 "nbformat": 4,
 "nbformat_minor": 2
}
